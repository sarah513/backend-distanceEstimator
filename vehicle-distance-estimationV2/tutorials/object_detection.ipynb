{
  "cells": [
    {
      "cell_type": "markdown",
      "metadata": {
        "id": "view-in-github",
        "colab_type": "text"
      },
      "source": [
        "<a href=\"https://colab.research.google.com/github/RmdanJr/vehicle-distance-estimation/blob/main/tutorials/object_detection.ipynb\" target=\"_parent\"><img src=\"https://colab.research.google.com/assets/colab-badge.svg\" alt=\"Open In Colab\"/></a>"
      ]
    },
    {
      "cell_type": "markdown",
      "metadata": {
        "id": "Co1Ywx5uEI8i"
      },
      "source": [
        "# Object Detection\n"
      ]
    },
    {
      "cell_type": "markdown",
      "source": [
        "## Cloning Repo"
      ],
      "metadata": {
        "id": "d0OUj9mNWjIe"
      }
    },
    {
      "cell_type": "code",
      "source": [
        "!git clone https://github.com/RmdanJr/vehicle-distance-estimation.git"
      ],
      "metadata": {
        "id": "WMEeLQGRrCH0"
      },
      "execution_count": null,
      "outputs": []
    },
    {
      "cell_type": "code",
      "source": [
        "%cd vehicle-distance-estimation/object-detector/"
      ],
      "metadata": {
        "id": "wHqEq1qYsmCj"
      },
      "execution_count": null,
      "outputs": []
    },
    {
      "cell_type": "markdown",
      "metadata": {
        "id": "lFfNxvbgCc5e"
      },
      "source": [
        "## Packages & Setup"
      ]
    },
    {
      "cell_type": "code",
      "source": [
        "!pip install -r requirements.txt"
      ],
      "metadata": {
        "id": "kfsyTz83wHhh"
      },
      "execution_count": null,
      "outputs": []
    },
    {
      "cell_type": "code",
      "source": [
        "!python setup.py"
      ],
      "metadata": {
        "colab": {
          "base_uri": "https://localhost:8080/"
        },
        "id": "QwPnaU7ow_5G",
        "outputId": "12072a10-784d-486d-b619-93b62733dd40"
      },
      "execution_count": null,
      "outputs": [
        {
          "output_type": "stream",
          "name": "stdout",
          "text": [
            "Checking setup...\n",
            "YOLOv5 🚀 2022-6-9 Python-3.7.13 torch-1.11.0+cu113 CUDA:0 (Tesla T4, 15110MiB)\n",
            "Setup complete ✅ (2 CPUs, 12.7 GB RAM, 38.8/78.2 GB disk)\n"
          ]
        }
      ]
    },
    {
      "cell_type": "markdown",
      "metadata": {
        "id": "gqqTXSpkE8gB"
      },
      "source": [
        "## FLIR Dataset"
      ]
    },
    {
      "cell_type": "markdown",
      "metadata": {
        "id": "fzVUhtcZmkCv"
      },
      "source": [
        "### Download Dataset"
      ]
    },
    {
      "cell_type": "code",
      "source": [
        "!bash scripts/download-flir-dataset.sh"
      ],
      "metadata": {
        "id": "AC5CSZspkHkc"
      },
      "execution_count": null,
      "outputs": []
    },
    {
      "cell_type": "markdown",
      "metadata": {
        "id": "A4k3_6fw58TK"
      },
      "source": [
        "### Format Dataset as YOLOv5 Format\n"
      ]
    },
    {
      "cell_type": "code",
      "execution_count": null,
      "metadata": {
        "colab": {
          "base_uri": "https://localhost:8080/"
        },
        "id": "sIQ-Q6GluPlB",
        "outputId": "e19c85fb-f300-4901-9c92-ee29ef8f7913"
      },
      "outputs": [
        {
          "output_type": "stream",
          "name": "stdout",
          "text": [
            "100% 67618/67618 [01:54<00:00, 590.32it/s]\n",
            "100% 11682/11682 [00:19<00:00, 613.57it/s]\n"
          ]
        }
      ],
      "source": [
        "!python format-dataset.py"
      ]
    },
    {
      "cell_type": "markdown",
      "metadata": {
        "id": "gXH5_CidoNPy"
      },
      "source": [
        "## Fine-tuning YOLOv5s"
      ]
    },
    {
      "cell_type": "markdown",
      "metadata": {
        "id": "o5PRWqg2Zrl5"
      },
      "source": [
        "### YOLOv5 Model & Dataset Configuration"
      ]
    },
    {
      "cell_type": "markdown",
      "metadata": {
        "id": "GGaLwpk7uFJh"
      },
      "source": [
        "#### Dataset YAML File"
      ]
    },
    {
      "cell_type": "code",
      "execution_count": null,
      "metadata": {
        "id": "bCttV-_FsPOq"
      },
      "outputs": [],
      "source": [
        "!python create-yaml.py"
      ]
    },
    {
      "cell_type": "markdown",
      "metadata": {
        "id": "97puRsI8NoWW"
      },
      "source": [
        "#### Model's YAML Configuration File\n"
      ]
    },
    {
      "cell_type": "code",
      "execution_count": null,
      "metadata": {
        "id": "TUfa0zQ1t7mu"
      },
      "outputs": [],
      "source": [
        "!python configure-yolo-yaml.py"
      ]
    },
    {
      "cell_type": "markdown",
      "metadata": {
        "id": "HdDJc8qmvJf_"
      },
      "source": [
        "### Training YOLOv5"
      ]
    },
    {
      "cell_type": "code",
      "execution_count": null,
      "metadata": {
        "id": "gjCZEgEiSvlL"
      },
      "outputs": [],
      "source": [
        "!python train.py --epochs 2 --data dataset.yaml --cfg yolov5s.yaml"
      ]
    },
    {
      "cell_type": "markdown",
      "metadata": {
        "id": "qLgvIvxYDBA1"
      },
      "source": [
        "## Making Predictions"
      ]
    },
    {
      "cell_type": "code",
      "execution_count": null,
      "metadata": {
        "id": "0Gq-z3K-o2nP"
      },
      "outputs": [],
      "source": [
        "!gdown --folder 10jpVGSHGILDt85QGf5KwHji0sUjZXbWR"
      ]
    },
    {
      "cell_type": "code",
      "execution_count": null,
      "metadata": {
        "id": "iqEGDnhUudFe"
      },
      "outputs": [],
      "source": [
        "!python detect.py --save-txt --weights training-results/weights/best.pt --conf 0.4 --source 'https://youtu.be/CvI5nvUdbsM'"
      ]
    },
    {
      "cell_type": "markdown",
      "metadata": {
        "id": "NgEif4QT1zsm"
      },
      "source": [
        "## Generate Objects Coordinates Sheet\n",
        "\n"
      ]
    },
    {
      "cell_type": "markdown",
      "metadata": {
        "id": "aHcHnFrugc6d"
      },
      "source": [
        "The sheet is expected to have a row for each frame & a column for each category. Each cell must have all center coordinates of detected objects of the column (category) on the row (frame)."
      ]
    },
    {
      "cell_type": "code",
      "source": [
        "!python generate-coordinates-sheet.py"
      ],
      "metadata": {
        "id": "IlGTGoGqnlyg"
      },
      "execution_count": null,
      "outputs": []
    },
    {
      "cell_type": "markdown",
      "metadata": {
        "id": "ZDTPjl30kIYo"
      },
      "source": [
        "## Examples"
      ]
    },
    {
      "cell_type": "code",
      "source": [
        "!python display-examples.py"
      ],
      "metadata": {
        "id": "NOJjYeL4oG1j"
      },
      "execution_count": null,
      "outputs": []
    },
    {
      "cell_type": "markdown",
      "metadata": {
        "id": "mKw5hImCkd14"
      },
      "source": [
        "## Results"
      ]
    },
    {
      "cell_type": "code",
      "execution_count": null,
      "metadata": {
        "id": "pQr29h6fdnYv",
        "colab": {
          "base_uri": "https://localhost:8080/",
          "height": 215
        },
        "outputId": "5cc1918f-23ae-4da8-9a68-c6463bc71e39"
      },
      "outputs": [
        {
          "output_type": "execute_result",
          "data": {
            "text/plain": [
              "(-0.5, 2399.5, 1199.5, -0.5)"
            ]
          },
          "metadata": {},
          "execution_count": 2
        },
        {
          "output_type": "display_data",
          "data": {
            "text/plain": [
              "<Figure size 432x288 with 1 Axes>"
            ],
            "image/png": "[encoded data removed]"
          },
          "metadata": {
            "needs_background": "light"
          }
        }
      ],
      "source": [
        "import cv2\n",
        "import matplotlib.pyplot as plt\n",
        "\n",
        "# display results image\n",
        "# imread() reads image as grayscale, second argument is one => grayscale, zero => RGB \n",
        "img = cv2.imread('training-results/results.png', 1)\n",
        "plt.imshow(img)\n",
        "plt.axis('off')"
      ]
    }
  ],
  "metadata": {
    "accelerator": "GPU",
    "colab": {
      "collapsed_sections": [
        "lFfNxvbgCc5e",
        "gqqTXSpkE8gB",
        "fzVUhtcZmkCv",
        "A4k3_6fw58TK"
      ],
      "name": "object_detection.ipynb",
      "provenance": [],
      "include_colab_link": true
    },
    "kernelspec": {
      "display_name": "Python 3",
      "name": "python3"
    },
    "language_info": {
      "name": "python"
    }
  },
  "nbformat": 4,
  "nbformat_minor": 0
}