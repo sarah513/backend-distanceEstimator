{
  "cells": [
    {
      "cell_type": "markdown",
      "metadata": {
        "id": "view-in-github",
        "colab_type": "text"
      },
      "source": [
        "<a href=\"https://colab.research.google.com/github/RmdanJr/vehicle-distance-estimation/blob/main/distance_estimation.ipynb\" target=\"_parent\"><img src=\"https://colab.research.google.com/assets/colab-badge.svg\" alt=\"Open In Colab\"/></a>"
      ]
    },
    {
      "cell_type": "markdown",
      "metadata": {
        "id": "Co1Ywx5uEI8i"
      },
      "source": [
        "# Distance Estimation\n"
      ]
    },
    {
      "cell_type": "markdown",
      "source": [
        "## Cloning Repo"
      ],
      "metadata": {
        "id": "d0OUj9mNWjIe"
      }
    },
    {
      "cell_type": "code",
      "source": [
        "!git clone https://github.com/RmdanJr/vehicle-distance-estimation.git"
      ],
      "metadata": {
        "id": "WMEeLQGRrCH0"
      },
      "execution_count": null,
      "outputs": []
    },
    {
      "cell_type": "code",
      "source": [
        "%cd vehicle-distance-estimation/distance-estimator/"
      ],
      "metadata": {
        "id": "wHqEq1qYsmCj"
      },
      "execution_count": null,
      "outputs": []
    },
    {
      "cell_type": "markdown",
      "metadata": {
        "id": "lFfNxvbgCc5e"
      },
      "source": [
        "## Packages & Setup"
      ]
    },
    {
      "cell_type": "code",
      "source": [
        "!pip install -r requirements.txt"
      ],
      "metadata": {
        "id": "kfsyTz83wHhh"
      },
      "execution_count": null,
      "outputs": []
    },
    {
      "cell_type": "markdown",
      "metadata": {
        "id": "gqqTXSpkE8gB"
      },
      "source": [
        "## KITTI Dataset"
      ]
    },
    {
      "cell_type": "markdown",
      "metadata": {
        "id": "fzVUhtcZmkCv"
      },
      "source": [
        "### Download Dataset"
      ]
    },
    {
      "cell_type": "code",
      "source": [
        "!bash scripts/download-kitti-dataset.sh"
      ],
      "metadata": {
        "id": "AC5CSZspkHkc"
      },
      "execution_count": null,
      "outputs": []
    },
    {
      "cell_type": "markdown",
      "metadata": {
        "id": "A4k3_6fw58TK"
      },
      "source": [
        "### Format Dataset as YOLOv5 Format\n"
      ]
    },
    {
      "cell_type": "code",
      "source": [
        "!bash scripts/organize-dataset-format.sh"
      ],
      "metadata": {
        "id": "rjLQ6YGHuqDM"
      },
      "execution_count": null,
      "outputs": []
    },
    {
      "cell_type": "markdown",
      "metadata": {
        "id": "NgEif4QT1zsm"
      },
      "source": [
        "## Generate CSV File\n"
      ]
    },
    {
      "cell_type": "code",
      "source": [
        "!python generate-csv.py --input=kitti-dataset/train_annots/ --filename=annotations.csv --results ."
      ],
      "metadata": {
        "id": "7nt2GD3T7BO9"
      },
      "execution_count": null,
      "outputs": []
    },
    {
      "cell_type": "markdown",
      "metadata": {
        "id": "gXH5_CidoNPy"
      },
      "source": [
        "## Training"
      ]
    },
    {
      "cell_type": "markdown",
      "metadata": {
        "id": "97puRsI8NoWW"
      },
      "source": [
        "### Train Pre-Trained Model\n"
      ]
    },
    {
      "cell_type": "code",
      "source": [
        "!python training_continuer.py --model models/model@1535477330.json --weights models/model@1535477330.h5 --results models/ --train train.csv --test test.csv"
      ],
      "metadata": {
        "id": "kYzBcQwa6tx8"
      },
      "execution_count": null,
      "outputs": []
    },
    {
      "cell_type": "markdown",
      "metadata": {
        "id": "HdDJc8qmvJf_"
      },
      "source": [
        "### Training Model"
      ]
    },
    {
      "cell_type": "code",
      "source": [
        "!python training_continuer.py --results models/ --train train.csv --test test.csv"
      ],
      "metadata": {
        "id": "N4vfkh4E6uuT"
      },
      "execution_count": null,
      "outputs": []
    },
    {
      "cell_type": "markdown",
      "metadata": {
        "id": "qLgvIvxYDBA1"
      },
      "source": [
        "## Making Predictions"
      ]
    },
    {
      "cell_type": "code",
      "execution_count": null,
      "metadata": {
        "id": "0Gq-z3K-o2nP"
      },
      "outputs": [],
      "source": [
        "!python inference.py --data annotations.csv --model models/model@1535470106.json --weights models/model@1535470106.h5 --results ."
      ]
    },
    {
      "cell_type": "code",
      "execution_count": null,
      "metadata": {
        "id": "iqEGDnhUudFe"
      },
      "outputs": [],
      "source": [
        "!python visualizer.py --data ../results/data/data.csv --frames ../object-detector/results/frames/ -fps 90 --results results"
      ]
    },
    {
      "cell_type": "markdown",
      "metadata": {
        "id": "mKw5hImCkd14"
      },
      "source": [
        "## Results"
      ]
    },
    {
      "cell_type": "code",
      "source": [
        "from IPython.display import HTML\n",
        "from base64 import b64encode\n",
        "mp4 = open('results/output.mp4','rb').read()\n",
        "data_url = \"data:video/mp4;base64,\" + b64encode(mp4).decode()\n",
        "HTML(\"\"\"\n",
        "<video width=400 controls>\n",
        "      <source src=\"%s\" type=\"video/mp4\">\n",
        "</video>\n",
        "\"\"\" % data_url)"
      ],
      "metadata": {
        "id": "-IhsQlfO7FdU"
      },
      "execution_count": null,
      "outputs": []
    }
  ],
  "metadata": {
    "accelerator": "GPU",
    "colab": {
      "collapsed_sections": [
        "A4k3_6fw58TK",
        "o5PRWqg2Zrl5",
        "GGaLwpk7uFJh",
        "97puRsI8NoWW"
      ],
      "name": "distance_estimation.ipynb",
      "provenance": [],
      "include_colab_link": true
    },
    "kernelspec": {
      "display_name": "Python 3",
      "name": "python3"
    },
    "language_info": {
      "name": "python"
    }
  },
  "nbformat": 4,
  "nbformat_minor": 0
}
